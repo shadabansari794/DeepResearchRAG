{
  "nbformat": 4,
  "nbformat_minor": 0,
  "metadata": {
    "colab": {
      "provenance": []
    },
    "kernelspec": {
      "name": "python3",
      "display_name": "Python 3"
    },
    "language_info": {
      "name": "python"
    }
  },
  "cells": [
    {
      "cell_type": "code",
      "execution_count": 1,
      "metadata": {
        "colab": {
          "base_uri": "https://localhost:8080/"
        },
        "collapsed": true,
        "id": "bwDVETcstZtq",
        "outputId": "d4953dc9-66bf-4ce0-a387-b350f0b8cfee"
      },
      "outputs": [
        {
          "output_type": "stream",
          "name": "stdout",
          "text": [
            "  Preparing metadata (setup.py) ... \u001b[?25l\u001b[?25hdone\n",
            "\u001b[2K     \u001b[90m━━━━━━━━━━━━━━━━━━━━━━━━━━━━━━━━━━━━━━━━\u001b[0m \u001b[32m43.7/43.7 kB\u001b[0m \u001b[31m2.3 MB/s\u001b[0m eta \u001b[36m0:00:00\u001b[0m\n",
            "\u001b[2K   \u001b[90m━━━━━━━━━━━━━━━━━━━━━━━━━━━━━━━━━━━━━━━━\u001b[0m \u001b[32m186.0/186.0 kB\u001b[0m \u001b[31m8.1 MB/s\u001b[0m eta \u001b[36m0:00:00\u001b[0m\n",
            "\u001b[2K   \u001b[90m━━━━━━━━━━━━━━━━━━━━━━━━━━━━━━━━━━━━━━━━\u001b[0m \u001b[32m31.3/31.3 MB\u001b[0m \u001b[31m35.9 MB/s\u001b[0m eta \u001b[36m0:00:00\u001b[0m\n",
            "\u001b[2K   \u001b[90m━━━━━━━━━━━━━━━━━━━━━━━━━━━━━━━━━━━━━━━━\u001b[0m \u001b[32m24.1/24.1 MB\u001b[0m \u001b[31m72.6 MB/s\u001b[0m eta \u001b[36m0:00:00\u001b[0m\n",
            "\u001b[2K   \u001b[90m━━━━━━━━━━━━━━━━━━━━━━━━━━━━━━━━━━━━━━━━\u001b[0m \u001b[32m29.0/29.0 MB\u001b[0m \u001b[31m19.2 MB/s\u001b[0m eta \u001b[36m0:00:00\u001b[0m\n",
            "\u001b[2K   \u001b[90m━━━━━━━━━━━━━━━━━━━━━━━━━━━━━━━━━━━━━━━━\u001b[0m \u001b[32m6.3/6.3 MB\u001b[0m \u001b[31m79.0 MB/s\u001b[0m eta \u001b[36m0:00:00\u001b[0m\n",
            "\u001b[2K   \u001b[90m━━━━━━━━━━━━━━━━━━━━━━━━━━━━━━━━━━━━━━━━\u001b[0m \u001b[32m242.5/242.5 kB\u001b[0m \u001b[31m13.4 MB/s\u001b[0m eta \u001b[36m0:00:00\u001b[0m\n",
            "\u001b[2K   \u001b[90m━━━━━━━━━━━━━━━━━━━━━━━━━━━━━━━━━━━━━━━━\u001b[0m \u001b[32m147.8/147.8 kB\u001b[0m \u001b[31m8.8 MB/s\u001b[0m eta \u001b[36m0:00:00\u001b[0m\n",
            "\u001b[2K   \u001b[90m━━━━━━━━━━━━━━━━━━━━━━━━━━━━━━━━━━━━━━━━\u001b[0m \u001b[32m114.9/114.9 kB\u001b[0m \u001b[31m6.7 MB/s\u001b[0m eta \u001b[36m0:00:00\u001b[0m\n",
            "\u001b[2K   \u001b[90m━━━━━━━━━━━━━━━━━━━━━━━━━━━━━━━━━━━━━━━━\u001b[0m \u001b[32m85.0/85.0 kB\u001b[0m \u001b[31m5.4 MB/s\u001b[0m eta \u001b[36m0:00:00\u001b[0m\n",
            "\u001b[2K   \u001b[90m━━━━━━━━━━━━━━━━━━━━━━━━━━━━━━━━━━━━━━━━\u001b[0m \u001b[32m2.5/2.5 MB\u001b[0m \u001b[31m69.2 MB/s\u001b[0m eta \u001b[36m0:00:00\u001b[0m\n",
            "\u001b[2K   \u001b[90m━━━━━━━━━━━━━━━━━━━━━━━━━━━━━━━━━━━━━━━━\u001b[0m \u001b[32m65.2/65.2 kB\u001b[0m \u001b[31m3.6 MB/s\u001b[0m eta \u001b[36m0:00:00\u001b[0m\n",
            "\u001b[2K   \u001b[90m━━━━━━━━━━━━━━━━━━━━━━━━━━━━━━━━━━━━━━━━\u001b[0m \u001b[32m152.4/152.4 kB\u001b[0m \u001b[31m9.0 MB/s\u001b[0m eta \u001b[36m0:00:00\u001b[0m\n",
            "\u001b[2K   \u001b[90m━━━━━━━━━━━━━━━━━━━━━━━━━━━━━━━━━━━━━━━━\u001b[0m \u001b[32m287.2/287.2 kB\u001b[0m \u001b[31m17.4 MB/s\u001b[0m eta \u001b[36m0:00:00\u001b[0m\n",
            "\u001b[2K   \u001b[90m━━━━━━━━━━━━━━━━━━━━━━━━━━━━━━━━━━━━━━━━\u001b[0m \u001b[32m733.7/733.7 kB\u001b[0m \u001b[31m38.0 MB/s\u001b[0m eta \u001b[36m0:00:00\u001b[0m\n",
            "\u001b[2K   \u001b[90m━━━━━━━━━━━━━━━━━━━━━━━━━━━━━━━━━━━━━━━━\u001b[0m \u001b[32m81.3/81.3 kB\u001b[0m \u001b[31m4.4 MB/s\u001b[0m eta \u001b[36m0:00:00\u001b[0m\n",
            "\u001b[2K   \u001b[90m━━━━━━━━━━━━━━━━━━━━━━━━━━━━━━━━━━━━━━━━\u001b[0m \u001b[32m203.4/203.4 kB\u001b[0m \u001b[31m12.8 MB/s\u001b[0m eta \u001b[36m0:00:00\u001b[0m\n",
            "\u001b[2K   \u001b[90m━━━━━━━━━━━━━━━━━━━━━━━━━━━━━━━━━━━━━━━━\u001b[0m \u001b[32m129.6/129.6 kB\u001b[0m \u001b[31m8.3 MB/s\u001b[0m eta \u001b[36m0:00:00\u001b[0m\n",
            "\u001b[2K   \u001b[90m━━━━━━━━━━━━━━━━━━━━━━━━━━━━━━━━━━━━━━━━\u001b[0m \u001b[32m438.1/438.1 kB\u001b[0m \u001b[31m24.6 MB/s\u001b[0m eta \u001b[36m0:00:00\u001b[0m\n",
            "\u001b[2K   \u001b[90m━━━━━━━━━━━━━━━━━━━━━━━━━━━━━━━━━━━━━━━━\u001b[0m \u001b[32m44.2/44.2 kB\u001b[0m \u001b[31m2.5 MB/s\u001b[0m eta \u001b[36m0:00:00\u001b[0m\n",
            "\u001b[2K   \u001b[90m━━━━━━━━━━━━━━━━━━━━━━━━━━━━━━━━━━━━━━━━\u001b[0m \u001b[32m50.0/50.0 kB\u001b[0m \u001b[31m3.0 MB/s\u001b[0m eta \u001b[36m0:00:00\u001b[0m\n",
            "\u001b[2K   \u001b[90m━━━━━━━━━━━━━━━━━━━━━━━━━━━━━━━━━━━━━━━━\u001b[0m \u001b[32m363.0/363.0 kB\u001b[0m \u001b[31m19.3 MB/s\u001b[0m eta \u001b[36m0:00:00\u001b[0m\n",
            "\u001b[2K   \u001b[90m━━━━━━━━━━━━━━━━━━━━━━━━━━━━━━━━━━━━━━━━\u001b[0m \u001b[32m12.5/12.5 MB\u001b[0m \u001b[31m75.8 MB/s\u001b[0m eta \u001b[36m0:00:00\u001b[0m\n",
            "\u001b[2K   \u001b[90m━━━━━━━━━━━━━━━━━━━━━━━━━━━━━━━━━━━━━━━━\u001b[0m \u001b[32m65.8/65.8 kB\u001b[0m \u001b[31m3.8 MB/s\u001b[0m eta \u001b[36m0:00:00\u001b[0m\n",
            "\u001b[2K   \u001b[90m━━━━━━━━━━━━━━━━━━━━━━━━━━━━━━━━━━━━━━━━\u001b[0m \u001b[32m118.5/118.5 kB\u001b[0m \u001b[31m6.5 MB/s\u001b[0m eta \u001b[36m0:00:00\u001b[0m\n",
            "\u001b[2K   \u001b[90m━━━━━━━━━━━━━━━━━━━━━━━━━━━━━━━━━━━━━━━━\u001b[0m \u001b[32m196.2/196.2 kB\u001b[0m \u001b[31m12.9 MB/s\u001b[0m eta \u001b[36m0:00:00\u001b[0m\n",
            "\u001b[2K   \u001b[90m━━━━━━━━━━━━━━━━━━━━━━━━━━━━━━━━━━━━━━━━\u001b[0m \u001b[32m3.3/3.3 MB\u001b[0m \u001b[31m74.4 MB/s\u001b[0m eta \u001b[36m0:00:00\u001b[0m\n",
            "\u001b[2K   \u001b[90m━━━━━━━━━━━━━━━━━━━━━━━━━━━━━━━━━━━━━━━━\u001b[0m \u001b[32m44.4/44.4 kB\u001b[0m \u001b[31m2.3 MB/s\u001b[0m eta \u001b[36m0:00:00\u001b[0m\n",
            "\u001b[2K   \u001b[90m━━━━━━━━━━━━━━━━━━━━━━━━━━━━━━━━━━━━━━━━\u001b[0m \u001b[32m50.9/50.9 kB\u001b[0m \u001b[31m3.1 MB/s\u001b[0m eta \u001b[36m0:00:00\u001b[0m\n",
            "\u001b[2K   \u001b[90m━━━━━━━━━━━━━━━━━━━━━━━━━━━━━━━━━━━━━━━━\u001b[0m \u001b[32m216.5/216.5 kB\u001b[0m \u001b[31m10.6 MB/s\u001b[0m eta \u001b[36m0:00:00\u001b[0m\n",
            "\u001b[?25h  Building wheel for sgmllib3k (setup.py) ... \u001b[?25l\u001b[?25hdone\n"
          ]
        }
      ],
      "source": [
        "!pip install -U -q open-deep-research faiss-cpu pymupdf mlflow"
      ]
    },
    {
      "cell_type": "code",
      "source": [
        "import fitz  # PyMuPDF\n",
        "import os\n",
        "import uuid\n",
        "import mlflow\n",
        "\n",
        "from langchain.text_splitter import RecursiveCharacterTextSplitter\n",
        "from langchain.embeddings import OpenAIEmbeddings\n",
        "from langchain.vectorstores import FAISS\n",
        "from langchain.schema import Document\n",
        "from open_deep_research.multi_agent import supervisor_builder\n",
        "from langgraph.checkpoint.memory import MemorySaver"
      ],
      "metadata": {
        "id": "6DxR2hQWtdAH"
      },
      "execution_count": 2,
      "outputs": []
    },
    {
      "cell_type": "code",
      "source": [
        "from google.colab import userdata\n",
        "os.environ[\"OPENAI_API_KEY\"] = userdata.get('OPENAI_API_KEY')\n",
        "os.environ[\"TAVILY_API_KEY\"] = userdata.get('TAVILY_API_KEY')"
      ],
      "metadata": {
        "id": "pm19u5OItdCg"
      },
      "execution_count": 3,
      "outputs": []
    },
    {
      "cell_type": "code",
      "source": [
        "company_name = \"maghmani organics ltd\"\n",
        "pdf_path = \"/content/meghamani_annual_report.pdf\"\n",
        "question = \"Summarize maghmani organics Ltd’s risk factor for FY 24-25\""
      ],
      "metadata": {
        "id": "mqg66DOstdEu"
      },
      "execution_count": 4,
      "outputs": []
    },
    {
      "cell_type": "code",
      "source": [
        "def extract_pdf_chunks(pdf_path, company_name):\n",
        "    text = \"\"\n",
        "    with fitz.open(pdf_path) as doc:\n",
        "        for page in doc:\n",
        "            text += page.get_text()\n",
        "    splitter = RecursiveCharacterTextSplitter(chunk_size=1000, chunk_overlap=150)\n",
        "    chunks = splitter.split_text(text)\n",
        "    return [Document(page_content=f\"Company: {company_name}\\n\\n{chunk}\", metadata={\"company\": company_name}) for chunk in chunks]\n",
        "\n",
        "docs = extract_pdf_chunks(pdf_path, company_name)"
      ],
      "metadata": {
        "id": "JqC6Pi2ZtdG9"
      },
      "execution_count": 5,
      "outputs": []
    },
    {
      "cell_type": "code",
      "source": [
        "embeddings = OpenAIEmbeddings()\n",
        "vectorstore = FAISS.from_documents(docs, embeddings)\n",
        "retriever = vectorstore.as_retriever(search_kwargs={\"filter\": {\"company\": company_name}})"
      ],
      "metadata": {
        "colab": {
          "base_uri": "https://localhost:8080/"
        },
        "id": "UoEJcH6gtdI1",
        "outputId": "f6211cc7-1855-41c9-84b8-52fb10280de1"
      },
      "execution_count": 6,
      "outputs": [
        {
          "output_type": "stream",
          "name": "stderr",
          "text": [
            "<ipython-input-6-1c5f9c84273a>:1: LangChainDeprecationWarning: The class `OpenAIEmbeddings` was deprecated in LangChain 0.0.9 and will be removed in 1.0. An updated version of the class exists in the :class:`~langchain-openai package and should be used instead. To use it run `pip install -U :class:`~langchain-openai` and import as `from :class:`~langchain_openai import OpenAIEmbeddings``.\n",
            "  embeddings = OpenAIEmbeddings()\n"
          ]
        }
      ]
    },
    {
      "cell_type": "code",
      "source": [
        "checkpointer = MemorySaver()\n",
        "agent = supervisor_builder.compile(name=\"pdf_research_team\", checkpointer=checkpointer)\n"
      ],
      "metadata": {
        "id": "SjPwYxWItdLV"
      },
      "execution_count": 7,
      "outputs": []
    },
    {
      "cell_type": "code",
      "source": [
        "from IPython.display import Image, display, Markdown\n",
        "display(Image(agent.get_graph(xray=True).draw_mermaid_png(max_retries=5)))"
      ],
      "metadata": {
        "colab": {
          "base_uri": "https://localhost:8080/",
          "height": 613
        },
        "id": "rVr5WeznwF3q",
        "outputId": "3ed23155-ede9-49e4-9c07-7b23f7a40407"
      },
      "execution_count": 8,
      "outputs": [
        {
          "output_type": "display_data",
          "data": {
            "image/png": "[encoded data removed]",
            "text/plain": [
              "<IPython.core.display.Image object>"
            ]
          },
          "metadata": {}
        }
      ]
    },
    {
      "cell_type": "code",
      "source": [
        "relevant_docs = retriever.get_relevant_documents(question)\n",
        "context = \"\\n\\n\".join([doc.page_content for doc in relevant_docs])"
      ],
      "metadata": {
        "colab": {
          "base_uri": "https://localhost:8080/"
        },
        "id": "vQ9xB9_-wJAV",
        "outputId": "bef94248-1dec-4d13-c289-ec5f1184f42f"
      },
      "execution_count": 9,
      "outputs": [
        {
          "output_type": "stream",
          "name": "stderr",
          "text": [
            "<ipython-input-9-3a966e712424>:1: LangChainDeprecationWarning: The method `BaseRetriever.get_relevant_documents` was deprecated in langchain-core 0.1.46 and will be removed in 1.0. Use :meth:`~invoke` instead.\n",
            "  relevant_docs = retriever.get_relevant_documents(question)\n"
          ]
        }
      ]
    },
    {
      "cell_type": "code",
      "source": [
        "msg = [{\n",
        "    \"role\": \"user\",\n",
        "    \"content\": f\"\"\"\n",
        "You are an expert AI researcher with access to a company's annual report (see context below) and online search tools. Your task is to synthesize this information into a structured report.\n",
        "\n",
        "**CRITICAL INSTRUCTIONS FOR CITATION:**\n",
        "1.  You **must** cite every piece of information, data point, or claim in your response.\n",
        "2.  Use inline, numbered citations in square brackets at the end of each sentence or claim, for example: \"The company's revenue grew by 10% [1].\"\n",
        "3.  The provided PDF Context (the annual report) **must** be your first source, cited as `[1]`.\n",
        "4.  Any new information you find online will be your subsequent sources, numbered sequentially (`[2]`, `[3]`, etc.).\n",
        "5.  At the very end of your response, create a section titled \"**References**\". This section must list all sources with their corresponding numbers.\n",
        "    - For source `[1]`, list it as: \"1. {company_name} Annual Report (Provided Context)\".\n",
        "    - For all external web sources, list the article title and a clickable direct URL. For example: \"2. [Article Title](https://example.com/article_url)\".\n",
        "\n",
        "**REPORT STRUCTURE:**\n",
        "1.  **Internal Insights:** Analysis based **exclusively** on the provided `{company_name}` Annual Report. Remember to cite every statement with `[1]`.\n",
        "2.  **External Insights:** Supplementary or recent information found online. Remember to cite every statement with its corresponding source number (e.g., `[2]`, `[3]`).\n",
        "3.  **Summary:** A high-level synthesis of the key findings from both internal and external sources. Every claim in the summary must also be cited correctly.\n",
        "4.  **References:** The numbered list of all sources used in the report.\n",
        "\n",
        "You must only use reliable, recent information from official websites, reputable news outlets, or financial databases for your external search. Do not ask follow-up questions.\n",
        "\n",
        "---\n",
        "\n",
        "### Company:\n",
        "{company_name}\n",
        "\n",
        "### PDF Context:\n",
        "{context}\n",
        "\n",
        "### Question:\n",
        "{question}\n",
        "\"\"\"\n",
        "}]\n",
        "\n",
        "\n",
        "# ------------------------------------------\n",
        "# STEP 6: Config\n",
        "# ------------------------------------------\n",
        "config = {\n",
        "    \"thread_id\": str(uuid.uuid4()),\n",
        "    \"search_api\": \"tavily\",\n",
        "    \"supervisor_model\": \"openai:o3\",\n",
        "    \"researcher_model\": \"openai:o3\"\n",
        "}\n",
        "\n",
        "thread_config = {\"configurable\": config}\n",
        "# ------------------------------------------\n",
        "# STEP 7: Run Agent + Log to MLflow\n",
        "# ------------------------------------------\n",
        "\n",
        "# mlflow.set_tracking_uri(\"http://127.0.0.1:5000\")\n",
        "mlflow.set_experiment(\"OpenDeepResearch_PDF_QA\")\n",
        "\n",
        "import asyncio\n",
        "\n",
        "async def main():\n",
        "    with mlflow.start_run():\n",
        "        run = mlflow.active_run()\n",
        "        print(f\"🚀 MLflow Run ID: {run.info.run_id}\")\n",
        "        print(f\"🔗 MLflow Run URL: http://127.0.0.1:5000/#/experiments/{run.info.experiment_id}/runs/{run.info.run_id}\")\n",
        "\n",
        "        mlflow.log_param(\"query\", question)\n",
        "        mlflow.log_metric(\"context_length\", len(context))\n",
        "\n",
        "        # Run the agent\n",
        "        response = await agent.ainvoke({\"messages\": msg}, config=thread_config)\n",
        "\n",
        "        # Extract LangChain message objects from state\n",
        "        messages = agent.get_state(thread_config).values[\"messages\"]\n",
        "\n",
        "        # print(messages)\n",
        "\n",
        "        # Extract final assistant message safely\n",
        "        # assistant_msgs = [m.content for m in messages if getattr(m, \"role\", None) == \"AIMessage\"]\n",
        "        from langchain_core.messages import AIMessage\n",
        "\n",
        "        ai_messages = [\n",
        "            m for m in agent.get_state(thread_config).values['messages']\n",
        "            if isinstance(m, AIMessage) and m.content.strip()\n",
        "        ]\n",
        "\n",
        "        final_response = next(\n",
        "                            (m.content for m in reversed(ai_messages) if m.content.strip()),\n",
        "                            None\n",
        "                        )\n",
        "\n",
        "        if final_response:\n",
        "            final_report = final_response\n",
        "            print(\"📄 Final Report:\\n\")\n",
        "            print(final_report)\n",
        "            mlflow.log_text(final_report, \"final_report.txt\")\n",
        "        else:\n",
        "            print(\"⚠️ No assistant response found.\")\n",
        "\n",
        "await main()\n"
      ],
      "metadata": {
        "colab": {
          "base_uri": "https://localhost:8080/"
        },
        "id": "8qUBaIBkwTTh",
        "outputId": "5f6ee642-c4e9-41f9-e780-5d77a821fec0"
      },
      "execution_count": 17,
      "outputs": [
        {
          "output_type": "stream",
          "name": "stdout",
          "text": [
            "🚀 MLflow Run ID: 2c871d96cb7e4cef980a29b5c7152780\n",
            "🔗 MLflow Run URL: http://127.0.0.1:5000/#/experiments/316236617365355717/runs/2c871d96cb7e4cef980a29b5c7152780\n",
            "📄 Final Report:\n",
            "\n",
            "Internal Insights  \n",
            "• Foreign-currency fluctuation is a significant financial risk. A 5 % move in the USD, EUR or CNY versus the rupee would swing FY 25 profit by ₹111 lakh, ₹1,794 lakh and ₹-19 lakh respectively, and change total equity by a similar magnitude, underscoring earnings sensitivity to exchange rates given the company’s heavy export mix (76 %–87 % of Crop-Protection revenue) [1].  \n",
            "• Interest-rate risk is material because the company carries both long- and short-term borrowings at floating rates; management tries to balance fixed- and variable-rate debt to dampen the effect of rate volatility on cash flows [1].  \n",
            "• Market-risk management is centralised in the treasury function, which oversees hedging, credit control and compliance with risk limits; however, the Board acknowledges that unexpected market moves can still materially affect results [1].  \n",
            "• High export dependence exposes the firm to geopolitical trade actions and overseas demand cycles; management flagged that previous patterns may not persist and cautioned investors against relying on forward-looking statements [1].  \n",
            "• Operational leverage adds risk: capacity-utilisation in Crop Protection rose to 87 % in FY 25, but Pigments utilisation lagged, so any downturn could quickly erode margins that only recently recovered to 9 % at the consolidated level [1].\n",
            "\n",
            "External Insights  \n",
            "• The Pigments business faces structural pricing pressure because of aggressive dumping of Chinese titanium-dioxide (TiO₂); while India’s trade watchdog has proposed an anti-dumping duty of $460-681 per tonne, the duty is not yet in force, leaving realisations and plant utilisation vulnerable in the near term [2].  \n",
            "• Management highlighted that FY 24 earnings were hit by a global demand slowdown, inventory destocking and sharp product-price erosion; analysts warn that another bout of weak agro-chemical demand, especially in developed markets, remains a key risk for FY 26 [2].  \n",
            "• Simply Wall St’s quantitative screen shows two unresolved warning signs against Meghmani Organics, indicating potential issues in either earnings quality, leverage or cash generation that investors should monitor closely [3].  \n",
            "• Rapid swings in profitability (from a ₹56.6 crore loss in FY 24 to a ₹66.4 crore profit in FY 25) reflect high operating volatility; brokerage commentary links this to dependence on a few product categories and commodity-linked pricing, amplifying exposure to cyclical downturns [4].\n",
            "\n",
            "Summary  \n",
            "Meghmani Organics’ FY 24-25 risk profile is shaped by (1) high exposure to foreign-currency movements and floating-rate debt, (2) dependence on export markets whose demand and regulatory landscapes can change abruptly, and (3) segment-specific vulnerabilities such as TiO₂ price dumping that depress Pigments margins [1][2].  External commentators add that the firm’s earnings volatility and flagged warning signs highlight execution and balance-sheet risks if global agro-chemical demand weakens again or trade remedies on TiO₂ are delayed [2][3][4].\n",
            "\n",
            "References  \n",
            "1. maghmani organics ltd Annual Report (Provided Context)  \n",
            "2. [Meghmani Organics delivers strong FY25 turnaround with Rs 66.4 cr profit, stock gains amid recovery in agrochemicals](https://business-news-today.com/meghmani-organics-delivers-strong-fy25-turnaround-with-rs-66-4cr-profit-stock-gains-amid-recovery-in-agrochemicals/)  \n",
            "3. [Meghmani Organics Full Year 2025 Earnings: ₹0.42 loss per share (vs ₹4.17 loss in FY 2024)](https://simplywall.st/stocks/in/materials/nse-mol/meghmani-organics-shares/news/meghmani-organics-full-year-2025-earnings-042-loss-per-share)  \n",
            "4. [ICICI Direct – Meghmani Organics Q4 FY 25 & FY 25 Result Commentary](https://www.icicidirect.com/research/equity/rapid-results/meghmani-organics-ltd)\n"
          ]
        }
      ]
    },
    {
      "cell_type": "code",
      "source": [
        "!pip install -q pyngrok\n",
        "from pyngrok import ngrok"
      ],
      "metadata": {
        "id": "PdDAnuSo4jFj"
      },
      "execution_count": 11,
      "outputs": []
    },
    {
      "cell_type": "code",
      "source": [
        "ngrok_token = userdata.get('NGROK_AUTHTOKEN')\n",
        "ngrok.set_auth_token(ngrok_token)\n",
        "get_ipython().system_raw(\"mlflow ui --port 5000 &\")\n",
        "public_url = ngrok.connect(5000)\n",
        "print(f\"🔗 Public MLflow URL: {public_url}\")"
      ],
      "metadata": {
        "colab": {
          "base_uri": "https://localhost:8080/"
        },
        "id": "kk3t2_of4jIK",
        "outputId": "93a5634b-1037-406a-e553-387a1098e4fb"
      },
      "execution_count": 18,
      "outputs": [
        {
          "output_type": "stream",
          "name": "stdout",
          "text": [
            "🔗 Public MLflow URL: NgrokTunnel: \"https://77d2-35-203-140-16.ngrok-free.app\" -> \"http://localhost:5000\"\n"
          ]
        }
      ]
    }
  ]
}